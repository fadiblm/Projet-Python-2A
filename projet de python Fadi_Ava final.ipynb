{
 "cells": [
  {
   "cell_type": "code",
   "execution_count": 1,
   "metadata": {},
   "outputs": [],
   "source": [
    "import numpy as np \n",
    "import matplotlib.pyplot as plt\n",
    "import pandas as pd\n",
    "import xlrd\n",
    "import seaborn as sns"
   ]
  },
  {
   "cell_type": "code",
   "execution_count": 3,
   "metadata": {},
   "outputs": [
    {
     "name": "stdout",
     "output_type": "stream",
     "text": [
      "Requirement already satisfied: xlrd in /opt/anaconda3/lib/python3.8/site-packages (2.0.1)\r\n"
     ]
    }
   ],
   "source": [
    "!pip install xlrd"
   ]
  },
  {
   "cell_type": "code",
   "execution_count": 7,
   "metadata": {},
   "outputs": [],
   "source": [
    "#Récupération de la base de données trouvée sur EM-DAT\n",
    "data = pd.read_excel(\"data_catastrophes.xlsx\")"
   ]
  },
  {
   "cell_type": "markdown",
   "metadata": {},
   "source": [
    "# 1. Réalisons des statistiques descriptives sur la base de données"
   ]
  },
  {
   "cell_type": "code",
   "execution_count": 9,
   "metadata": {},
   "outputs": [
    {
     "data": {
      "text/plain": [
       "Dis No                      0\n",
       "Year                        0\n",
       "Seq                         0\n",
       "Disaster Group              0\n",
       "Disaster Subgroup           0\n",
       "Disaster Type               0\n",
       "Disaster Subtype         2954\n",
       "Disaster Subsubtype     14682\n",
       "Event Name              11942\n",
       "Entry Criteria            335\n",
       "Country                     0\n",
       "ISO                         0\n",
       "Region                      0\n",
       "Continent                   0\n",
       "Location                 1788\n",
       "Origin                  12107\n",
       "Associated Dis          12549\n",
       "Associated Dis2         15040\n",
       "OFDA Response           14103\n",
       "Appeal                  13142\n",
       "Declaration             12502\n",
       "Aid Contribution        15033\n",
       "Dis Mag Value           10835\n",
       "Dis Mag Scale            1167\n",
       "Latitude                12996\n",
       "Longitude               12993\n",
       "Local Time              14624\n",
       "River Basin             14462\n",
       "Start Year                  0\n",
       "Start Month               381\n",
       "Start Day                3589\n",
       "End Year                    0\n",
       "End Month                 708\n",
       "End Day                  3522\n",
       "Total Deaths             4561\n",
       "No Injured              11914\n",
       "No Affected              6802\n",
       "No Homeless             13307\n",
       "Total Affected           4440\n",
       "Reconstruction Costs    15680\n",
       "Insured Damages         14633\n",
       "Total Damages           10632\n",
       "CPI                       310\n",
       "dtype: int64"
      ]
     },
     "execution_count": 9,
     "metadata": {},
     "output_type": "execute_result"
    }
   ],
   "source": [
    "#Comptage du nombre de valeurs nulles pour chaque variable\n",
    "data.isnull().sum()"
   ]
  },
  {
   "cell_type": "markdown",
   "metadata": {},
   "source": [
    "On remarque que beaucoup de variables sont incomplètes: elles sont identifiables en raison de valeurs nulles ou Nan.  \n",
    "\n",
    "Nous avons d'abord cherché à compléter la base de données mais nous nous sommes rendus compte de la difficulté de trouver des données par exemple sur le coût total des dommages pour une catastrophe donnée.\n",
    "\n",
    "Par ailleurs, le fait que la base de données ne soit pas complète n'est pas toujours problématique, par exemple pour des variables telles que 'Disaster Subtype' ou 'Associated Dis', nous n'avons pas besoin d'avoir ces valeurs puisque un désastre n'a pas obligatoirement de sous-type ou de catastrophe associés. "
   ]
  },
  {
   "cell_type": "code",
   "execution_count": 11,
   "metadata": {},
   "outputs": [
    {
     "data": {
      "text/plain": [
       "Text(0.5, 1.0, 'Nombre de catastrophe naturelles par type depuis 1900')"
      ]
     },
     "execution_count": 11,
     "metadata": {},
     "output_type": "execute_result"
    },
    {
     "data": {
      "image/png": "[encoded data removed]",
      "text/plain": [
       "<Figure size 432x288 with 1 Axes>"
      ]
     },
     "metadata": {
      "needs_background": "light"
     },
     "output_type": "display_data"
    }
   ],
   "source": [
    "#Quel type de catastrophe naturelle est le plus fréquent?\n",
    "dtype = data['Disaster Type'].value_counts()\n",
    "dtype.plot(kind=\"barh\", color=\"blue\")\n",
    "plt.title('Nombre de catastrophe naturelles par type depuis 1900')"
   ]
  },
  {
   "cell_type": "markdown",
   "metadata": {},
   "source": [
    "Le type de catastrophes naturelles qui revient le plus dans le monde depuis 1900 sont les inondations, puisqu'elles représentent plus d'un tiers des catastrophes naturelles totales. On peut alors se dire que les zones les plus vulnérables seront celles à proximité d'océan, de mer ou de rivière."
   ]
  },
  {
   "cell_type": "code",
   "execution_count": 13,
   "metadata": {},
   "outputs": [
    {
     "data": {
      "text/plain": [
       "Text(0.5, 1.0, 'Nombres de catastrophes naturelles par continent depuis 1900')"
      ]
     },
     "execution_count": 13,
     "metadata": {},
     "output_type": "execute_result"
    },
    {
     "data": {
      "image/png": "[encoded data removed]",
      "text/plain": [
       "<Figure size 432x288 with 1 Axes>"
      ]
     },
     "metadata": {
      "needs_background": "light"
     },
     "output_type": "display_data"
    }
   ],
   "source": [
    "#Quel continent est le plus touché par les catastrophes naturelles?\n",
    "dconti = data['Continent'].value_counts()\n",
    "dconti.plot(kind=\"bar\", color=\"lightblue\")\n",
    "plt.title('Nombres de catastrophes naturelles par continent depuis 1900')"
   ]
  },
  {
   "cell_type": "markdown",
   "metadata": {},
   "source": [
    "Intuitivement, le continent qui pourrait être le plus touché par les catastrophes naturelles depuis 1900 est l'Asie. C'est également ce que les données démontrent. \n",
    "\n",
    "Le continent américain arrive en 2ème place puisqu'il a été touché par près de 3000 désastres naturelles en un peu plus d'un siècle. L'Océanie est le continent le plus épargné mais cela s'explique aisément par sa taille: il est le plus petit des 5 continents. "
   ]
  },
  {
   "cell_type": "code",
   "execution_count": 14,
   "metadata": {},
   "outputs": [
    {
     "data": {
      "text/plain": [
       "Text(0.5, 1.0, 'Nombres de catastrophes naturelles dans les 10 pays les plus vulnérables')"
      ]
     },
     "execution_count": 14,
     "metadata": {},
     "output_type": "execute_result"
    },
    {
     "data": {
      "image/png": "[encoded data removed]",
      "text/plain": [
       "<Figure size 432x288 with 1 Axes>"
      ]
     },
     "metadata": {
      "needs_background": "light"
     },
     "output_type": "display_data"
    }
   ],
   "source": [
    "#Quel pays est le plus touché par les catastrophes naturelles?\n",
    "dpays = data['Country'].value_counts()\n",
    "dpays.head(10).plot(kind=\"bar\", color=\"purple\")\n",
    "plt.title('Nombres de catastrophes naturelles dans les 10 pays les plus vulnérables')"
   ]
  },
  {
   "cell_type": "markdown",
   "metadata": {},
   "source": [
    "Depuis 1900, les Etats-Unis et la Chine sont les 2 pays les plus touchés par les catastrophes naturelles, suivis par l'Inde, les Philippines et l'Indonésie."
   ]
  },
  {
   "cell_type": "markdown",
   "metadata": {},
   "source": [
    "On va maintenant regarder comment le coût économique des catastrophes naturelles a évolué dans le monde."
   ]
  },
  {
   "cell_type": "code",
   "execution_count": 15,
   "metadata": {},
   "outputs": [],
   "source": [
    "#Création du dataframe avec l'année et le coût total des dommages\n",
    "df = pd.DataFrame(columns=['Year','Total Damages'])\n",
    "for  i in range(121):\n",
    "    df.loc[i, 'Year']=1900+i\n",
    "    df.loc[i,'Total Damages']=data[data['Year']==(1900+i)].sum()['Total Damages']"
   ]
  },
  {
   "cell_type": "code",
   "execution_count": 18,
   "metadata": {
    "scrolled": true
   },
   "outputs": [
    {
     "data": {
      "text/plain": [
       "Text(0.5, 1.0, 'Evolution du coût économique global des catastrophes naturelles depuis 1970')"
      ]
     },
     "execution_count": 18,
     "metadata": {},
     "output_type": "execute_result"
    },
    {
     "data": {
      "image/png": "[encoded data removed]",
      "text/plain": [
       "<Figure size 432x288 with 1 Axes>"
      ]
     },
     "metadata": {
      "needs_background": "light"
     },
     "output_type": "display_data"
    }
   ],
   "source": [
    "#Représentation graphique du coût par année\n",
    "axes = plt.gca()\n",
    "axes.set_xlim([1970,2021])\n",
    "axes.set_ylim([0,370000000])\n",
    "plt.bar(df['Year'], df['Total Damages'],width=0.8, color=\"c\")\n",
    "axes.set(xlabel = \"Année\", ylabel = \"En milliers de $\")\n",
    "plt.title('Evolution du coût économique global des catastrophes naturelles depuis 1970')"
   ]
  },
  {
   "cell_type": "markdown",
   "metadata": {},
   "source": [
    "La tendance est à la hausse depuis les années 1970 avec une nette augmentation des coûts économiques des catastrophes naturelles depuis les années 2000."
   ]
  },
  {
   "cell_type": "markdown",
   "metadata": {},
   "source": [
    "L'analyse descriptive nous permet de conclure que :\n",
    "-les catastrophes naturelles ont plus d'intensité depuis une cinquantaine d'année\n",
    "-elles touchent majoritairement l'Asie et l'Amérique\n",
    "-Le coût économique des dommages causés par une catastrophe naturelles semble representer l'aspect\n",
    "vulnérable ou non d'une région.\n",
    "\n",
    "Nous allons donc nous concentrer sur le coût économique en tant que principale variable dans notre travail de modélisation."
   ]
  },
  {
   "cell_type": "markdown",
   "metadata": {},
   "source": [
    "# 2. Création d'une nouvelle variable donnant la durée de la catastrophe naturelle"
   ]
  },
  {
   "cell_type": "markdown",
   "metadata": {},
   "source": [
    "Avant de faire de la modélisation, on crée une nouvelle variable contenant la durée de chaque catastrophe naturelle. La création de cette variable sera utile par la suite. \n"
   ]
  },
  {
   "cell_type": "code",
   "execution_count": 19,
   "metadata": {},
   "outputs": [],
   "source": [
    "#Création d'un fonction qui enlève les lignes avec un NaN ou un 0 pour une colonne donnée\n",
    "def remove_nan(df,i): #i est l'indice de la colonne dans le dataframe dont on veut enlever les lignes avec NaN ou 0\n",
    "    index_with_nan = df.index[df.iloc[:,i].isnull()]\n",
    "    df.drop(index_with_nan,0, inplace=True)"
   ]
  },
  {
   "cell_type": "markdown",
   "metadata": {},
   "source": [
    "Cette nouvelle variable 'Durée' dans le dataframe à partir de 'Start Year', 'Start Month', 'Start Day', 'End Year', 'End Month' et 'End Day'. Pour cela, on supprome les catastrophes naturelles dont au moins l'une des valeurs est manquante."
   ]
  },
  {
   "cell_type": "code",
   "execution_count": 20,
   "metadata": {},
   "outputs": [],
   "source": [
    "for i in [28,29,30,31,32,33]:\n",
    "    remove_nan(data,i)"
   ]
  },
  {
   "cell_type": "code",
   "execution_count": 21,
   "metadata": {},
   "outputs": [
    {
     "data": {
      "text/html": [
       "<div>\n",
       "<style scoped>\n",
       "    .dataframe tbody tr th:only-of-type {\n",
       "        vertical-align: middle;\n",
       "    }\n",
       "\n",
       "    .dataframe tbody tr th {\n",
       "        vertical-align: top;\n",
       "    }\n",
       "\n",
       "    .dataframe thead th {\n",
       "        text-align: right;\n",
       "    }\n",
       "</style>\n",
       "<table border=\"1\" class=\"dataframe\">\n",
       "  <thead>\n",
       "    <tr style=\"text-align: right;\">\n",
       "      <th></th>\n",
       "      <th>Year</th>\n",
       "      <th>Seq</th>\n",
       "      <th>Aid Contribution</th>\n",
       "      <th>Dis Mag Value</th>\n",
       "      <th>Start Year</th>\n",
       "      <th>Start Month</th>\n",
       "      <th>Start Day</th>\n",
       "      <th>End Year</th>\n",
       "      <th>End Month</th>\n",
       "      <th>End Day</th>\n",
       "      <th>Total Deaths</th>\n",
       "      <th>No Injured</th>\n",
       "      <th>No Affected</th>\n",
       "      <th>No Homeless</th>\n",
       "      <th>Total Affected</th>\n",
       "      <th>Reconstruction Costs</th>\n",
       "      <th>Insured Damages</th>\n",
       "      <th>Total Damages</th>\n",
       "      <th>CPI</th>\n",
       "    </tr>\n",
       "  </thead>\n",
       "  <tbody>\n",
       "    <tr>\n",
       "      <th>count</th>\n",
       "      <td>12016.000000</td>\n",
       "      <td>12016.000000</td>\n",
       "      <td>584.000000</td>\n",
       "      <td>4.466000e+03</td>\n",
       "      <td>12016.000000</td>\n",
       "      <td>12016.000000</td>\n",
       "      <td>12016.000000</td>\n",
       "      <td>12016.000000</td>\n",
       "      <td>12016.000000</td>\n",
       "      <td>12016.000000</td>\n",
       "      <td>9049.000000</td>\n",
       "      <td>3508.00000</td>\n",
       "      <td>6.979000e+03</td>\n",
       "      <td>2.146000e+03</td>\n",
       "      <td>9.071000e+03</td>\n",
       "      <td>3.000000e+01</td>\n",
       "      <td>1.049000e+03</td>\n",
       "      <td>4.382000e+03</td>\n",
       "      <td>11717.000000</td>\n",
       "    </tr>\n",
       "    <tr>\n",
       "      <th>mean</th>\n",
       "      <td>1998.273053</td>\n",
       "      <td>294.735353</td>\n",
       "      <td>9680.625000</td>\n",
       "      <td>4.584041e+04</td>\n",
       "      <td>1998.281957</td>\n",
       "      <td>6.590463</td>\n",
       "      <td>15.247503</td>\n",
       "      <td>1998.296771</td>\n",
       "      <td>6.674184</td>\n",
       "      <td>15.747587</td>\n",
       "      <td>451.349873</td>\n",
       "      <td>1961.95439</td>\n",
       "      <td>6.362785e+05</td>\n",
       "      <td>7.106438e+04</td>\n",
       "      <td>5.071078e+05</td>\n",
       "      <td>2.156993e+06</td>\n",
       "      <td>7.775979e+05</td>\n",
       "      <td>7.492992e+05</td>\n",
       "      <td>66.260843</td>\n",
       "    </tr>\n",
       "    <tr>\n",
       "      <th>std</th>\n",
       "      <td>19.235235</td>\n",
       "      <td>310.682134</td>\n",
       "      <td>49797.639606</td>\n",
       "      <td>2.978644e+05</td>\n",
       "      <td>19.231638</td>\n",
       "      <td>3.338818</td>\n",
       "      <td>8.950169</td>\n",
       "      <td>19.239134</td>\n",
       "      <td>3.322998</td>\n",
       "      <td>8.859280</td>\n",
       "      <td>6548.004813</td>\n",
       "      <td>18702.78855</td>\n",
       "      <td>6.274358e+06</td>\n",
       "      <td>5.246601e+05</td>\n",
       "      <td>5.631714e+06</td>\n",
       "      <td>5.149240e+06</td>\n",
       "      <td>3.068046e+06</td>\n",
       "      <td>5.093811e+06</td>\n",
       "      <td>25.640175</td>\n",
       "    </tr>\n",
       "    <tr>\n",
       "      <th>min</th>\n",
       "      <td>1900.000000</td>\n",
       "      <td>1.000000</td>\n",
       "      <td>1.000000</td>\n",
       "      <td>-5.100000e+01</td>\n",
       "      <td>1900.000000</td>\n",
       "      <td>1.000000</td>\n",
       "      <td>1.000000</td>\n",
       "      <td>1900.000000</td>\n",
       "      <td>1.000000</td>\n",
       "      <td>1.000000</td>\n",
       "      <td>1.000000</td>\n",
       "      <td>1.00000</td>\n",
       "      <td>1.000000e+00</td>\n",
       "      <td>6.000000e+00</td>\n",
       "      <td>1.000000e+00</td>\n",
       "      <td>8.400000e+01</td>\n",
       "      <td>3.400000e+01</td>\n",
       "      <td>2.000000e+00</td>\n",
       "      <td>3.261389</td>\n",
       "    </tr>\n",
       "    <tr>\n",
       "      <th>25%</th>\n",
       "      <td>1992.000000</td>\n",
       "      <td>95.000000</td>\n",
       "      <td>164.750000</td>\n",
       "      <td>7.000000e+00</td>\n",
       "      <td>1992.000000</td>\n",
       "      <td>4.000000</td>\n",
       "      <td>7.000000</td>\n",
       "      <td>1992.000000</td>\n",
       "      <td>4.000000</td>\n",
       "      <td>8.000000</td>\n",
       "      <td>5.000000</td>\n",
       "      <td>14.00000</td>\n",
       "      <td>1.200000e+03</td>\n",
       "      <td>5.400000e+02</td>\n",
       "      <td>6.000000e+02</td>\n",
       "      <td>1.100000e+04</td>\n",
       "      <td>5.000000e+04</td>\n",
       "      <td>8.000000e+03</td>\n",
       "      <td>53.271157</td>\n",
       "    </tr>\n",
       "    <tr>\n",
       "      <th>50%</th>\n",
       "      <td>2003.000000</td>\n",
       "      <td>256.500000</td>\n",
       "      <td>678.500000</td>\n",
       "      <td>1.530000e+02</td>\n",
       "      <td>2003.000000</td>\n",
       "      <td>7.000000</td>\n",
       "      <td>15.000000</td>\n",
       "      <td>2003.000000</td>\n",
       "      <td>7.000000</td>\n",
       "      <td>16.000000</td>\n",
       "      <td>16.000000</td>\n",
       "      <td>50.00000</td>\n",
       "      <td>9.011000e+03</td>\n",
       "      <td>3.000000e+03</td>\n",
       "      <td>5.000000e+03</td>\n",
       "      <td>1.885000e+05</td>\n",
       "      <td>1.650000e+05</td>\n",
       "      <td>6.000000e+04</td>\n",
       "      <td>70.357819</td>\n",
       "    </tr>\n",
       "    <tr>\n",
       "      <th>75%</th>\n",
       "      <td>2011.000000</td>\n",
       "      <td>454.250000</td>\n",
       "      <td>3389.250000</td>\n",
       "      <td>1.281825e+04</td>\n",
       "      <td>2011.000000</td>\n",
       "      <td>9.000000</td>\n",
       "      <td>23.000000</td>\n",
       "      <td>2011.000000</td>\n",
       "      <td>9.000000</td>\n",
       "      <td>24.000000</td>\n",
       "      <td>52.000000</td>\n",
       "      <td>200.00000</td>\n",
       "      <td>7.000000e+04</td>\n",
       "      <td>1.695000e+04</td>\n",
       "      <td>4.500000e+04</td>\n",
       "      <td>1.324313e+06</td>\n",
       "      <td>4.700000e+05</td>\n",
       "      <td>3.150000e+05</td>\n",
       "      <td>85.292061</td>\n",
       "    </tr>\n",
       "    <tr>\n",
       "      <th>max</th>\n",
       "      <td>2020.000000</td>\n",
       "      <td>9854.000000</td>\n",
       "      <td>844063.000000</td>\n",
       "      <td>1.302587e+07</td>\n",
       "      <td>2020.000000</td>\n",
       "      <td>12.000000</td>\n",
       "      <td>31.000000</td>\n",
       "      <td>2020.000000</td>\n",
       "      <td>12.000000</td>\n",
       "      <td>31.000000</td>\n",
       "      <td>300000.000000</td>\n",
       "      <td>600000.00000</td>\n",
       "      <td>2.230000e+08</td>\n",
       "      <td>1.585000e+07</td>\n",
       "      <td>2.389730e+08</td>\n",
       "      <td>2.500000e+07</td>\n",
       "      <td>6.000000e+07</td>\n",
       "      <td>2.100000e+08</td>\n",
       "      <td>100.000000</td>\n",
       "    </tr>\n",
       "  </tbody>\n",
       "</table>\n",
       "</div>"
      ],
      "text/plain": [
       "               Year           Seq  Aid Contribution  Dis Mag Value  \\\n",
       "count  12016.000000  12016.000000        584.000000   4.466000e+03   \n",
       "mean    1998.273053    294.735353       9680.625000   4.584041e+04   \n",
       "std       19.235235    310.682134      49797.639606   2.978644e+05   \n",
       "min     1900.000000      1.000000          1.000000  -5.100000e+01   \n",
       "25%     1992.000000     95.000000        164.750000   7.000000e+00   \n",
       "50%     2003.000000    256.500000        678.500000   1.530000e+02   \n",
       "75%     2011.000000    454.250000       3389.250000   1.281825e+04   \n",
       "max     2020.000000   9854.000000     844063.000000   1.302587e+07   \n",
       "\n",
       "         Start Year   Start Month     Start Day      End Year     End Month  \\\n",
       "count  12016.000000  12016.000000  12016.000000  12016.000000  12016.000000   \n",
       "mean    1998.281957      6.590463     15.247503   1998.296771      6.674184   \n",
       "std       19.231638      3.338818      8.950169     19.239134      3.322998   \n",
       "min     1900.000000      1.000000      1.000000   1900.000000      1.000000   \n",
       "25%     1992.000000      4.000000      7.000000   1992.000000      4.000000   \n",
       "50%     2003.000000      7.000000     15.000000   2003.000000      7.000000   \n",
       "75%     2011.000000      9.000000     23.000000   2011.000000      9.000000   \n",
       "max     2020.000000     12.000000     31.000000   2020.000000     12.000000   \n",
       "\n",
       "            End Day   Total Deaths    No Injured   No Affected   No Homeless  \\\n",
       "count  12016.000000    9049.000000    3508.00000  6.979000e+03  2.146000e+03   \n",
       "mean      15.747587     451.349873    1961.95439  6.362785e+05  7.106438e+04   \n",
       "std        8.859280    6548.004813   18702.78855  6.274358e+06  5.246601e+05   \n",
       "min        1.000000       1.000000       1.00000  1.000000e+00  6.000000e+00   \n",
       "25%        8.000000       5.000000      14.00000  1.200000e+03  5.400000e+02   \n",
       "50%       16.000000      16.000000      50.00000  9.011000e+03  3.000000e+03   \n",
       "75%       24.000000      52.000000     200.00000  7.000000e+04  1.695000e+04   \n",
       "max       31.000000  300000.000000  600000.00000  2.230000e+08  1.585000e+07   \n",
       "\n",
       "       Total Affected  Reconstruction Costs  Insured Damages  Total Damages  \\\n",
       "count    9.071000e+03          3.000000e+01     1.049000e+03   4.382000e+03   \n",
       "mean     5.071078e+05          2.156993e+06     7.775979e+05   7.492992e+05   \n",
       "std      5.631714e+06          5.149240e+06     3.068046e+06   5.093811e+06   \n",
       "min      1.000000e+00          8.400000e+01     3.400000e+01   2.000000e+00   \n",
       "25%      6.000000e+02          1.100000e+04     5.000000e+04   8.000000e+03   \n",
       "50%      5.000000e+03          1.885000e+05     1.650000e+05   6.000000e+04   \n",
       "75%      4.500000e+04          1.324313e+06     4.700000e+05   3.150000e+05   \n",
       "max      2.389730e+08          2.500000e+07     6.000000e+07   2.100000e+08   \n",
       "\n",
       "                CPI  \n",
       "count  11717.000000  \n",
       "mean      66.260843  \n",
       "std       25.640175  \n",
       "min        3.261389  \n",
       "25%       53.271157  \n",
       "50%       70.357819  \n",
       "75%       85.292061  \n",
       "max      100.000000  "
      ]
     },
     "execution_count": 21,
     "metadata": {},
     "output_type": "execute_result"
    }
   ],
   "source": [
    "data.describe()"
   ]
  },
  {
   "cell_type": "markdown",
   "metadata": {},
   "source": [
    "On a donc maintenant 12016 catastrophes naturelles dont on va pouvoir calculer la durée."
   ]
  },
  {
   "cell_type": "code",
   "execution_count": 22,
   "metadata": {
    "scrolled": false
   },
   "outputs": [
    {
     "name": "stderr",
     "output_type": "stream",
     "text": [
      "<ipython-input-22-4be57c23170c>:12: DeprecationWarning: an integer is required (got type Series).  Implicit conversion to integers using __int__ is deprecated, and may be removed in a future version of Python.\n",
      "  d0 = date(data['Start Year'][i:i+1],data['Start Month'][i:i+1],data['Start Day'][i:i+1])\n",
      "<ipython-input-22-4be57c23170c>:13: DeprecationWarning: an integer is required (got type Series).  Implicit conversion to integers using __int__ is deprecated, and may be removed in a future version of Python.\n",
      "  d1 = date(data['End Year'][i:i+1],data['End Month'][i:i+1],data['End Day'][i:i+1])\n",
      "<ipython-input-22-4be57c23170c>:15: SettingWithCopyWarning: \n",
      "A value is trying to be set on a copy of a slice from a DataFrame\n",
      "\n",
      "See the caveats in the documentation: https://pandas.pydata.org/pandas-docs/stable/user_guide/indexing.html#returning-a-view-versus-a-copy\n",
      "  data['duree'][i:i+1] = delta.days +1\n"
     ]
    }
   ],
   "source": [
    "#Création da la variable contenant la durée de la catastrophe naturelle\n",
    "#Utilisation du module datetime pour ce faire \n",
    "\n",
    "from datetime import date\n",
    "\n",
    "data['duree']=0 #On crée la variable dans le dataframe\n",
    "\n",
    "d0=0\n",
    "d1=0\n",
    "\n",
    "for i in range(12016) :\n",
    "    d0 = date(data['Start Year'][i:i+1],data['Start Month'][i:i+1],data['Start Day'][i:i+1])\n",
    "    d1 = date(data['End Year'][i:i+1],data['End Month'][i:i+1],data['End Day'][i:i+1])\n",
    "    delta = d1 - d0\n",
    "    data['duree'][i:i+1] = delta.days +1\n",
    "  "
   ]
  },
  {
   "cell_type": "code",
   "execution_count": 23,
   "metadata": {},
   "outputs": [
    {
     "data": {
      "text/plain": [
       "count    12016.000000\n",
       "mean         9.459970\n",
       "std         34.261889\n",
       "min          1.000000\n",
       "25%          1.000000\n",
       "50%          1.000000\n",
       "75%          5.000000\n",
       "max        956.000000\n",
       "Name: duree, dtype: float64"
      ]
     },
     "execution_count": 23,
     "metadata": {},
     "output_type": "execute_result"
    }
   ],
   "source": [
    "data.duree.describe()"
   ]
  },
  {
   "cell_type": "markdown",
   "metadata": {},
   "source": [
    "on remarque qu'en moyenne, la catastrophe naturelle dure une dizaine de jours.\n",
    "\n",
    "Le maximum est 956 jours, soit environ 2 ans et demi, c'est une valeur assez extrême, qui biaise peut-être la moyenne puisque le 3ème quartile est de 5 jours.\n",
    "\n",
    "Nous nous demandons donc s'il faut l'enlever du jeu de données.\n",
    "\n",
    "Regardons à quelles catastrophes naturelles correspondent ces longues durées."
   ]
  },
  {
   "cell_type": "code",
   "execution_count": 24,
   "metadata": {},
   "outputs": [
    {
     "data": {
      "text/html": [
       "<div>\n",
       "<style scoped>\n",
       "    .dataframe tbody tr th:only-of-type {\n",
       "        vertical-align: middle;\n",
       "    }\n",
       "\n",
       "    .dataframe tbody tr th {\n",
       "        vertical-align: top;\n",
       "    }\n",
       "\n",
       "    .dataframe thead th {\n",
       "        text-align: right;\n",
       "    }\n",
       "</style>\n",
       "<table border=\"1\" class=\"dataframe\">\n",
       "  <thead>\n",
       "    <tr style=\"text-align: right;\">\n",
       "      <th></th>\n",
       "      <th>Dis No</th>\n",
       "      <th>Year</th>\n",
       "      <th>Seq</th>\n",
       "      <th>Disaster Group</th>\n",
       "      <th>Disaster Subgroup</th>\n",
       "      <th>Disaster Type</th>\n",
       "      <th>Disaster Subtype</th>\n",
       "      <th>Disaster Subsubtype</th>\n",
       "      <th>Event Name</th>\n",
       "      <th>Entry Criteria</th>\n",
       "      <th>...</th>\n",
       "      <th>Total Deaths</th>\n",
       "      <th>No Injured</th>\n",
       "      <th>No Affected</th>\n",
       "      <th>No Homeless</th>\n",
       "      <th>Total Affected</th>\n",
       "      <th>Reconstruction Costs</th>\n",
       "      <th>Insured Damages</th>\n",
       "      <th>Total Damages</th>\n",
       "      <th>CPI</th>\n",
       "      <th>duree</th>\n",
       "    </tr>\n",
       "  </thead>\n",
       "  <tbody>\n",
       "    <tr>\n",
       "      <th>8808</th>\n",
       "      <td>2004-0515-CHN</td>\n",
       "      <td>2004</td>\n",
       "      <td>515</td>\n",
       "      <td>Natural</td>\n",
       "      <td>Biological</td>\n",
       "      <td>Epidemic</td>\n",
       "      <td>Viral disease</td>\n",
       "      <td>NaN</td>\n",
       "      <td>Avion Influenza H5N1</td>\n",
       "      <td>Affected</td>\n",
       "      <td>...</td>\n",
       "      <td>16.0</td>\n",
       "      <td>NaN</td>\n",
       "      <td>9.0</td>\n",
       "      <td>NaN</td>\n",
       "      <td>9.0</td>\n",
       "      <td>NaN</td>\n",
       "      <td>NaN</td>\n",
       "      <td>NaN</td>\n",
       "      <td>73.881412</td>\n",
       "      <td>885</td>\n",
       "    </tr>\n",
       "    <tr>\n",
       "      <th>8854</th>\n",
       "      <td>2004-0515-IDN</td>\n",
       "      <td>2004</td>\n",
       "      <td>515</td>\n",
       "      <td>Natural</td>\n",
       "      <td>Biological</td>\n",
       "      <td>Epidemic</td>\n",
       "      <td>Viral disease</td>\n",
       "      <td>NaN</td>\n",
       "      <td>Avion Influenza H5N1</td>\n",
       "      <td>Affected</td>\n",
       "      <td>...</td>\n",
       "      <td>87.0</td>\n",
       "      <td>NaN</td>\n",
       "      <td>21.0</td>\n",
       "      <td>NaN</td>\n",
       "      <td>21.0</td>\n",
       "      <td>NaN</td>\n",
       "      <td>NaN</td>\n",
       "      <td>NaN</td>\n",
       "      <td>73.881412</td>\n",
       "      <td>956</td>\n",
       "    </tr>\n",
       "    <tr>\n",
       "      <th>9185</th>\n",
       "      <td>2004-0515-KHM</td>\n",
       "      <td>2004</td>\n",
       "      <td>515</td>\n",
       "      <td>Natural</td>\n",
       "      <td>Biological</td>\n",
       "      <td>Epidemic</td>\n",
       "      <td>Viral disease</td>\n",
       "      <td>NaN</td>\n",
       "      <td>Avion Influenza H5N1</td>\n",
       "      <td>Affected</td>\n",
       "      <td>...</td>\n",
       "      <td>7.0</td>\n",
       "      <td>NaN</td>\n",
       "      <td>NaN</td>\n",
       "      <td>NaN</td>\n",
       "      <td>NaN</td>\n",
       "      <td>NaN</td>\n",
       "      <td>NaN</td>\n",
       "      <td>NaN</td>\n",
       "      <td>73.881412</td>\n",
       "      <td>784</td>\n",
       "    </tr>\n",
       "    <tr>\n",
       "      <th>9274</th>\n",
       "      <td>2004-0515-THA</td>\n",
       "      <td>2004</td>\n",
       "      <td>515</td>\n",
       "      <td>Natural</td>\n",
       "      <td>Biological</td>\n",
       "      <td>Epidemic</td>\n",
       "      <td>Viral disease</td>\n",
       "      <td>NaN</td>\n",
       "      <td>Avion Influenza H5N1</td>\n",
       "      <td>Affected</td>\n",
       "      <td>...</td>\n",
       "      <td>14.0</td>\n",
       "      <td>NaN</td>\n",
       "      <td>8.0</td>\n",
       "      <td>NaN</td>\n",
       "      <td>8.0</td>\n",
       "      <td>NaN</td>\n",
       "      <td>NaN</td>\n",
       "      <td>NaN</td>\n",
       "      <td>73.881412</td>\n",
       "      <td>695</td>\n",
       "    </tr>\n",
       "    <tr>\n",
       "      <th>10389</th>\n",
       "      <td>2008-0511-AGO</td>\n",
       "      <td>2008</td>\n",
       "      <td>511</td>\n",
       "      <td>Natural</td>\n",
       "      <td>Biological</td>\n",
       "      <td>Epidemic</td>\n",
       "      <td>Bacterial disease</td>\n",
       "      <td>NaN</td>\n",
       "      <td>Cholera</td>\n",
       "      <td>Kill</td>\n",
       "      <td>...</td>\n",
       "      <td>134.0</td>\n",
       "      <td>NaN</td>\n",
       "      <td>7495.0</td>\n",
       "      <td>NaN</td>\n",
       "      <td>7495.0</td>\n",
       "      <td>NaN</td>\n",
       "      <td>NaN</td>\n",
       "      <td>NaN</td>\n",
       "      <td>84.215229</td>\n",
       "      <td>503</td>\n",
       "    </tr>\n",
       "    <tr>\n",
       "      <th>11758</th>\n",
       "      <td>2010-0557-HTI</td>\n",
       "      <td>2010</td>\n",
       "      <td>557</td>\n",
       "      <td>Natural</td>\n",
       "      <td>Biological</td>\n",
       "      <td>Epidemic</td>\n",
       "      <td>Bacterial disease</td>\n",
       "      <td>NaN</td>\n",
       "      <td>Cholera</td>\n",
       "      <td>Kill</td>\n",
       "      <td>...</td>\n",
       "      <td>6908.0</td>\n",
       "      <td>277451.0</td>\n",
       "      <td>236546.0</td>\n",
       "      <td>NaN</td>\n",
       "      <td>513997.0</td>\n",
       "      <td>NaN</td>\n",
       "      <td>NaN</td>\n",
       "      <td>NaN</td>\n",
       "      <td>85.292061</td>\n",
       "      <td>420</td>\n",
       "    </tr>\n",
       "    <tr>\n",
       "      <th>12138</th>\n",
       "      <td>2011-0290-COD</td>\n",
       "      <td>2011</td>\n",
       "      <td>290</td>\n",
       "      <td>Natural</td>\n",
       "      <td>Biological</td>\n",
       "      <td>Epidemic</td>\n",
       "      <td>Bacterial disease</td>\n",
       "      <td>NaN</td>\n",
       "      <td>Cholera</td>\n",
       "      <td>Kill</td>\n",
       "      <td>...</td>\n",
       "      <td>603.0</td>\n",
       "      <td>NaN</td>\n",
       "      <td>22233.0</td>\n",
       "      <td>NaN</td>\n",
       "      <td>22233.0</td>\n",
       "      <td>NaN</td>\n",
       "      <td>NaN</td>\n",
       "      <td>NaN</td>\n",
       "      <td>87.984603</td>\n",
       "      <td>385</td>\n",
       "    </tr>\n",
       "    <tr>\n",
       "      <th>12620</th>\n",
       "      <td>2014-0090-LBR</td>\n",
       "      <td>2014</td>\n",
       "      <td>90</td>\n",
       "      <td>Natural</td>\n",
       "      <td>Biological</td>\n",
       "      <td>Epidemic</td>\n",
       "      <td>Viral disease</td>\n",
       "      <td>NaN</td>\n",
       "      <td>Ebola</td>\n",
       "      <td>Kill</td>\n",
       "      <td>...</td>\n",
       "      <td>4810.0</td>\n",
       "      <td>10682.0</td>\n",
       "      <td>NaN</td>\n",
       "      <td>NaN</td>\n",
       "      <td>10682.0</td>\n",
       "      <td>NaN</td>\n",
       "      <td>NaN</td>\n",
       "      <td>NaN</td>\n",
       "      <td>92.598981</td>\n",
       "      <td>665</td>\n",
       "    </tr>\n",
       "    <tr>\n",
       "      <th>12811</th>\n",
       "      <td>2012-0295-SLE</td>\n",
       "      <td>2012</td>\n",
       "      <td>295</td>\n",
       "      <td>Natural</td>\n",
       "      <td>Biological</td>\n",
       "      <td>Epidemic</td>\n",
       "      <td>Bacterial disease</td>\n",
       "      <td>NaN</td>\n",
       "      <td>Cholera</td>\n",
       "      <td>Kill</td>\n",
       "      <td>...</td>\n",
       "      <td>300.0</td>\n",
       "      <td>NaN</td>\n",
       "      <td>23009.0</td>\n",
       "      <td>NaN</td>\n",
       "      <td>23009.0</td>\n",
       "      <td>NaN</td>\n",
       "      <td>NaN</td>\n",
       "      <td>NaN</td>\n",
       "      <td>89.805293</td>\n",
       "      <td>374</td>\n",
       "    </tr>\n",
       "    <tr>\n",
       "      <th>13939</th>\n",
       "      <td>2015-0540-TZA</td>\n",
       "      <td>2015</td>\n",
       "      <td>540</td>\n",
       "      <td>Natural</td>\n",
       "      <td>Biological</td>\n",
       "      <td>Epidemic</td>\n",
       "      <td>Bacterial disease</td>\n",
       "      <td>NaN</td>\n",
       "      <td>Cholera</td>\n",
       "      <td>Kill</td>\n",
       "      <td>...</td>\n",
       "      <td>542.0</td>\n",
       "      <td>32879.0</td>\n",
       "      <td>NaN</td>\n",
       "      <td>NaN</td>\n",
       "      <td>32879.0</td>\n",
       "      <td>NaN</td>\n",
       "      <td>NaN</td>\n",
       "      <td>NaN</td>\n",
       "      <td>92.708822</td>\n",
       "      <td>877</td>\n",
       "    </tr>\n",
       "    <tr>\n",
       "      <th>14233</th>\n",
       "      <td>2018-0478-BOL</td>\n",
       "      <td>2018</td>\n",
       "      <td>478</td>\n",
       "      <td>Natural</td>\n",
       "      <td>Biological</td>\n",
       "      <td>Epidemic</td>\n",
       "      <td>Viral disease</td>\n",
       "      <td>NaN</td>\n",
       "      <td>Influenza</td>\n",
       "      <td>Kill</td>\n",
       "      <td>...</td>\n",
       "      <td>23.0</td>\n",
       "      <td>1428.0</td>\n",
       "      <td>NaN</td>\n",
       "      <td>NaN</td>\n",
       "      <td>1428.0</td>\n",
       "      <td>NaN</td>\n",
       "      <td>NaN</td>\n",
       "      <td>NaN</td>\n",
       "      <td>98.219991</td>\n",
       "      <td>414</td>\n",
       "    </tr>\n",
       "    <tr>\n",
       "      <th>14801</th>\n",
       "      <td>2018-0489-PHL</td>\n",
       "      <td>2018</td>\n",
       "      <td>489</td>\n",
       "      <td>Natural</td>\n",
       "      <td>Biological</td>\n",
       "      <td>Epidemic</td>\n",
       "      <td>Viral disease</td>\n",
       "      <td>NaN</td>\n",
       "      <td>Dengue</td>\n",
       "      <td>Kill</td>\n",
       "      <td>...</td>\n",
       "      <td>317.0</td>\n",
       "      <td>57564.0</td>\n",
       "      <td>NaN</td>\n",
       "      <td>NaN</td>\n",
       "      <td>57564.0</td>\n",
       "      <td>NaN</td>\n",
       "      <td>NaN</td>\n",
       "      <td>NaN</td>\n",
       "      <td>98.219991</td>\n",
       "      <td>545</td>\n",
       "    </tr>\n",
       "    <tr>\n",
       "      <th>15232</th>\n",
       "      <td>2018-0363-COD</td>\n",
       "      <td>2018</td>\n",
       "      <td>363</td>\n",
       "      <td>Natural</td>\n",
       "      <td>Biological</td>\n",
       "      <td>Epidemic</td>\n",
       "      <td>Viral disease</td>\n",
       "      <td>NaN</td>\n",
       "      <td>Ebola</td>\n",
       "      <td>Kill</td>\n",
       "      <td>...</td>\n",
       "      <td>2287.0</td>\n",
       "      <td>3470.0</td>\n",
       "      <td>NaN</td>\n",
       "      <td>NaN</td>\n",
       "      <td>3470.0</td>\n",
       "      <td>NaN</td>\n",
       "      <td>NaN</td>\n",
       "      <td>NaN</td>\n",
       "      <td>98.219991</td>\n",
       "      <td>500</td>\n",
       "    </tr>\n",
       "    <tr>\n",
       "      <th>15338</th>\n",
       "      <td>2019-0663-BEN</td>\n",
       "      <td>2019</td>\n",
       "      <td>663</td>\n",
       "      <td>Natural</td>\n",
       "      <td>Biological</td>\n",
       "      <td>Epidemic</td>\n",
       "      <td>Viral disease</td>\n",
       "      <td>NaN</td>\n",
       "      <td>Meningitis</td>\n",
       "      <td>Kill</td>\n",
       "      <td>...</td>\n",
       "      <td>13.0</td>\n",
       "      <td>24.0</td>\n",
       "      <td>NaN</td>\n",
       "      <td>NaN</td>\n",
       "      <td>24.0</td>\n",
       "      <td>NaN</td>\n",
       "      <td>NaN</td>\n",
       "      <td>NaN</td>\n",
       "      <td>100.000000</td>\n",
       "      <td>382</td>\n",
       "    </tr>\n",
       "    <tr>\n",
       "      <th>15341</th>\n",
       "      <td>2019-0660-CAF</td>\n",
       "      <td>2019</td>\n",
       "      <td>660</td>\n",
       "      <td>Natural</td>\n",
       "      <td>Biological</td>\n",
       "      <td>Epidemic</td>\n",
       "      <td>Viral disease</td>\n",
       "      <td>NaN</td>\n",
       "      <td>Measles</td>\n",
       "      <td>Kill</td>\n",
       "      <td>...</td>\n",
       "      <td>53.0</td>\n",
       "      <td>3600.0</td>\n",
       "      <td>NaN</td>\n",
       "      <td>NaN</td>\n",
       "      <td>3600.0</td>\n",
       "      <td>NaN</td>\n",
       "      <td>NaN</td>\n",
       "      <td>NaN</td>\n",
       "      <td>100.000000</td>\n",
       "      <td>398</td>\n",
       "    </tr>\n",
       "    <tr>\n",
       "      <th>15373</th>\n",
       "      <td>2019-0659-PAK</td>\n",
       "      <td>2019</td>\n",
       "      <td>659</td>\n",
       "      <td>Natural</td>\n",
       "      <td>Biological</td>\n",
       "      <td>Epidemic</td>\n",
       "      <td>Viral disease</td>\n",
       "      <td>NaN</td>\n",
       "      <td>Dengue</td>\n",
       "      <td>Affected</td>\n",
       "      <td>...</td>\n",
       "      <td>95.0</td>\n",
       "      <td>53834.0</td>\n",
       "      <td>NaN</td>\n",
       "      <td>NaN</td>\n",
       "      <td>53834.0</td>\n",
       "      <td>NaN</td>\n",
       "      <td>NaN</td>\n",
       "      <td>NaN</td>\n",
       "      <td>100.000000</td>\n",
       "      <td>721</td>\n",
       "    </tr>\n",
       "  </tbody>\n",
       "</table>\n",
       "<p>16 rows × 44 columns</p>\n",
       "</div>"
      ],
      "text/plain": [
       "              Dis No  Year  Seq Disaster Group Disaster Subgroup  \\\n",
       "8808   2004-0515-CHN  2004  515        Natural        Biological   \n",
       "8854   2004-0515-IDN  2004  515        Natural        Biological   \n",
       "9185   2004-0515-KHM  2004  515        Natural        Biological   \n",
       "9274   2004-0515-THA  2004  515        Natural        Biological   \n",
       "10389  2008-0511-AGO  2008  511        Natural        Biological   \n",
       "11758  2010-0557-HTI  2010  557        Natural        Biological   \n",
       "12138  2011-0290-COD  2011  290        Natural        Biological   \n",
       "12620  2014-0090-LBR  2014   90        Natural        Biological   \n",
       "12811  2012-0295-SLE  2012  295        Natural        Biological   \n",
       "13939  2015-0540-TZA  2015  540        Natural        Biological   \n",
       "14233  2018-0478-BOL  2018  478        Natural        Biological   \n",
       "14801  2018-0489-PHL  2018  489        Natural        Biological   \n",
       "15232  2018-0363-COD  2018  363        Natural        Biological   \n",
       "15338  2019-0663-BEN  2019  663        Natural        Biological   \n",
       "15341  2019-0660-CAF  2019  660        Natural        Biological   \n",
       "15373  2019-0659-PAK  2019  659        Natural        Biological   \n",
       "\n",
       "      Disaster Type   Disaster Subtype Disaster Subsubtype  \\\n",
       "8808       Epidemic      Viral disease                 NaN   \n",
       "8854       Epidemic      Viral disease                 NaN   \n",
       "9185       Epidemic      Viral disease                 NaN   \n",
       "9274       Epidemic      Viral disease                 NaN   \n",
       "10389      Epidemic  Bacterial disease                 NaN   \n",
       "11758      Epidemic  Bacterial disease                 NaN   \n",
       "12138      Epidemic  Bacterial disease                 NaN   \n",
       "12620      Epidemic      Viral disease                 NaN   \n",
       "12811      Epidemic  Bacterial disease                 NaN   \n",
       "13939      Epidemic  Bacterial disease                 NaN   \n",
       "14233      Epidemic      Viral disease                 NaN   \n",
       "14801      Epidemic      Viral disease                 NaN   \n",
       "15232      Epidemic      Viral disease                 NaN   \n",
       "15338      Epidemic      Viral disease                 NaN   \n",
       "15341      Epidemic      Viral disease                 NaN   \n",
       "15373      Epidemic      Viral disease                 NaN   \n",
       "\n",
       "                 Event Name Entry Criteria  ... Total Deaths No Injured  \\\n",
       "8808   Avion Influenza H5N1       Affected  ...         16.0        NaN   \n",
       "8854   Avion Influenza H5N1       Affected  ...         87.0        NaN   \n",
       "9185   Avion Influenza H5N1       Affected  ...          7.0        NaN   \n",
       "9274   Avion Influenza H5N1       Affected  ...         14.0        NaN   \n",
       "10389               Cholera           Kill  ...        134.0        NaN   \n",
       "11758               Cholera           Kill  ...       6908.0   277451.0   \n",
       "12138               Cholera           Kill  ...        603.0        NaN   \n",
       "12620                 Ebola           Kill  ...       4810.0    10682.0   \n",
       "12811               Cholera           Kill  ...        300.0        NaN   \n",
       "13939               Cholera           Kill  ...        542.0    32879.0   \n",
       "14233             Influenza           Kill  ...         23.0     1428.0   \n",
       "14801                Dengue           Kill  ...        317.0    57564.0   \n",
       "15232                 Ebola           Kill  ...       2287.0     3470.0   \n",
       "15338            Meningitis           Kill  ...         13.0       24.0   \n",
       "15341               Measles           Kill  ...         53.0     3600.0   \n",
       "15373                Dengue       Affected  ...         95.0    53834.0   \n",
       "\n",
       "      No Affected No Homeless Total Affected Reconstruction Costs  \\\n",
       "8808          9.0         NaN            9.0                  NaN   \n",
       "8854         21.0         NaN           21.0                  NaN   \n",
       "9185          NaN         NaN            NaN                  NaN   \n",
       "9274          8.0         NaN            8.0                  NaN   \n",
       "10389      7495.0         NaN         7495.0                  NaN   \n",
       "11758    236546.0         NaN       513997.0                  NaN   \n",
       "12138     22233.0         NaN        22233.0                  NaN   \n",
       "12620         NaN         NaN        10682.0                  NaN   \n",
       "12811     23009.0         NaN        23009.0                  NaN   \n",
       "13939         NaN         NaN        32879.0                  NaN   \n",
       "14233         NaN         NaN         1428.0                  NaN   \n",
       "14801         NaN         NaN        57564.0                  NaN   \n",
       "15232         NaN         NaN         3470.0                  NaN   \n",
       "15338         NaN         NaN           24.0                  NaN   \n",
       "15341         NaN         NaN         3600.0                  NaN   \n",
       "15373         NaN         NaN        53834.0                  NaN   \n",
       "\n",
       "      Insured Damages Total Damages         CPI duree  \n",
       "8808              NaN           NaN   73.881412   885  \n",
       "8854              NaN           NaN   73.881412   956  \n",
       "9185              NaN           NaN   73.881412   784  \n",
       "9274              NaN           NaN   73.881412   695  \n",
       "10389             NaN           NaN   84.215229   503  \n",
       "11758             NaN           NaN   85.292061   420  \n",
       "12138             NaN           NaN   87.984603   385  \n",
       "12620             NaN           NaN   92.598981   665  \n",
       "12811             NaN           NaN   89.805293   374  \n",
       "13939             NaN           NaN   92.708822   877  \n",
       "14233             NaN           NaN   98.219991   414  \n",
       "14801             NaN           NaN   98.219991   545  \n",
       "15232             NaN           NaN   98.219991   500  \n",
       "15338             NaN           NaN  100.000000   382  \n",
       "15341             NaN           NaN  100.000000   398  \n",
       "15373             NaN           NaN  100.000000   721  \n",
       "\n",
       "[16 rows x 44 columns]"
      ]
     },
     "execution_count": 24,
     "metadata": {},
     "output_type": "execute_result"
    }
   ],
   "source": [
    "data[data['duree']>365]"
   ]
  },
  {
   "cell_type": "markdown",
   "metadata": {},
   "source": [
    "Majoritairement, les catastrophes naturelles qui durent plus d'un an sont des épidémies. On choisit de garder ces valeurs car il n'y a pas qu'une seule valeur extrême isolée."
   ]
  },
  {
   "cell_type": "markdown",
   "metadata": {},
   "source": [
    "# 3. Recherche de lien entre le coût économique d'une catastrophe naturelle et d'autres variables"
   ]
  },
  {
   "cell_type": "code",
   "execution_count": 25,
   "metadata": {},
   "outputs": [],
   "source": [
    "#On extraie les variables qui nous intéressent et qui nous semblent être liées à 'Total Damages'\n",
    "total_damages = data['Total Damages']\n",
    "duree = data.duree\n",
    "total_deaths = data['Total Deaths']\n",
    "total_affected = data['Total Affected']"
   ]
  },
  {
   "cell_type": "code",
   "execution_count": 26,
   "metadata": {},
   "outputs": [
    {
     "data": {
      "text/plain": [
       "Total Damages     7634\n",
       "duree                0\n",
       "Total Deaths      2967\n",
       "Total Affected    2945\n",
       "dtype: int64"
      ]
     },
     "execution_count": 26,
     "metadata": {},
     "output_type": "execute_result"
    }
   ],
   "source": [
    "#On recrée un nouveau dataframe à partir de ces variables\n",
    "reg = pd.concat([total_damages,duree,total_deaths,total_affected], axis=1)\n",
    "reg.isnull().sum()"
   ]
  },
  {
   "cell_type": "markdown",
   "metadata": {},
   "source": [
    "On voit qu'il y a plusieurs valeurs manquantes, on enlève alors ces lignes."
   ]
  },
  {
   "cell_type": "code",
   "execution_count": 27,
   "metadata": {},
   "outputs": [],
   "source": [
    "#On enlève les lignes avec des valeurs manquantes\n",
    "for i in range(4):\n",
    "    remove_nan(reg,i)"
   ]
  },
  {
   "cell_type": "markdown",
   "metadata": {},
   "source": [
    "On aimerait voir si on peut expliquer 'Total Damages' à partir des autres variables ou une autre de ces variables."
   ]
  },
  {
   "cell_type": "code",
   "execution_count": 32,
   "metadata": {},
   "outputs": [
    {
     "data": {
      "image/png": "[encoded data removed]",
      "text/plain": [
       "<Figure size 432x288 with 2 Axes>"
      ]
     },
     "metadata": {
      "needs_background": "light"
     },
     "output_type": "display_data"
    }
   ],
   "source": [
    "#Etude de la corrélation entre les variables\n",
    "matrice_corr = reg.corr()\n",
    "ax = sns.heatmap(matrice_corr, annot=True)\n",
    "plt.show()"
   ]
  },
  {
   "cell_type": "markdown",
   "metadata": {},
   "source": [
    "On voit clairement qu'il n'y a pas de réelle corrélation entre aucune de ces variables. On va représenter graphiquement les variables  avec 'Total Damages' pour essayer de comprendre leur relation."
   ]
  },
  {
   "cell_type": "code",
   "execution_count": 36,
   "metadata": {},
   "outputs": [
    {
     "data": {
      "image/png": "[encoded data removed]",
      "text/plain": [
       "<Figure size 432x288 with 1 Axes>"
      ]
     },
     "metadata": {
      "needs_background": "light"
     },
     "output_type": "display_data"
    }
   ],
   "source": [
    "axes = plt.gca()\n",
    "axes.set_xlim([-100,10000])\n",
    "axes.set_ylim([0,2000000])\n",
    "plt.plot(reg['Total Deaths'],reg['Total Damages'],'.')\n",
    "axes.set(xlabel=\"Nombre de personnes décédées\",\n",
    "        ylabel = \"Coût total des dommages\")\n",
    "plt.show()"
   ]
  },
  {
   "cell_type": "markdown",
   "metadata": {},
   "source": [
    "On ne voit pas vraiment un lien entre de nombres de personnes décédées à cause d'une catastrophe naturelle et le coût total des dommages."
   ]
  },
  {
   "cell_type": "code",
   "execution_count": 39,
   "metadata": {},
   "outputs": [
    {
     "data": {
      "image/png": "[encoded data removed]",
      "text/plain": [
       "<Figure size 432x288 with 1 Axes>"
      ]
     },
     "metadata": {
      "needs_background": "light"
     },
     "output_type": "display_data"
    }
   ],
   "source": [
    "axes = plt.gca()\n",
    "axes.set_xlim([0,1000000])\n",
    "axes.set_ylim([0,2000000])\n",
    "plt.plot(reg['Total Affected'],reg['Total Damages'],'.')\n",
    "axes.set(xlabel=\"Nombre de personnes affectées par la catastrophe naturelle\",\n",
    "        ylabel = \"Coût total des dommages\")\n",
    "plt.show()"
   ]
  },
  {
   "cell_type": "markdown",
   "metadata": {},
   "source": [
    "On ne décèle aucune relation entre le nombre de personnes affectées par la catastrophe naturelle et son coût total."
   ]
  },
  {
   "cell_type": "code",
   "execution_count": 40,
   "metadata": {},
   "outputs": [
    {
     "data": {
      "image/png": "[encoded data removed]",
      "text/plain": [
       "<Figure size 432x288 with 1 Axes>"
      ]
     },
     "metadata": {
      "needs_background": "light"
     },
     "output_type": "display_data"
    }
   ],
   "source": [
    "axes = plt.gca()\n",
    "axes.set_xlim([0,150])\n",
    "axes.set_ylim([0,2000000])\n",
    "plt.plot(reg['duree'],reg['Total Damages'],'.')\n",
    "axes.set(xlabel=\"Durée de la catastrophe en jours\",\n",
    "        ylabel = \"Coût total des dommages\")\n",
    "plt.show()"
   ]
  },
  {
   "cell_type": "markdown",
   "metadata": {},
   "source": [
    "On reconnaît un peu la fonction 1/x. On va tester un modèle log-log entre la durée de la catastrophe naturelle et le coût des dommages."
   ]
  },
  {
   "cell_type": "code",
   "execution_count": 41,
   "metadata": {},
   "outputs": [
    {
     "name": "stdout",
     "output_type": "stream",
     "text": [
      "10.533827356874454\n",
      "[0.36198011]\n",
      "R² = 0.027735709175860324\n"
     ]
    }
   ],
   "source": [
    "duree2 = np.log(reg.duree)\n",
    "tot_dam = np.log(reg['Total Damages'])\n",
    "reg3 = pd.concat([tot_dam, duree2], axis=1)\n",
    "\n",
    "from sklearn.linear_model import LinearRegression\n",
    "\n",
    "#on crée un objet reg lin\n",
    "modeleReg=LinearRegression()\n",
    "\n",
    "#on crée y et x\n",
    "list_var=reg3.columns.drop('Total Damages')\n",
    "y=reg3['Total Damages']\n",
    "x=reg3[list_var]\n",
    "\n",
    "modeleReg.fit(x,y)\n",
    "\n",
    "print(modeleReg.intercept_)\n",
    "print(modeleReg.coef_)\n",
    "\n",
    "#calcul du R²\n",
    "\n",
    "print(\"R² =\", modeleReg.score(x,y))"
   ]
  },
  {
   "cell_type": "markdown",
   "metadata": {},
   "source": [
    "Le R² est assez faible (2,7%) donc les variations du log de la durée de la catastrophe naturelle n'expliquent pas vraiment les variations du log du coût total des dommages."
   ]
  },
  {
   "cell_type": "markdown",
   "metadata": {},
   "source": [
    "Essayons de considérer une autre variable : l'intensité de la catastrophe naturelle. On va se concentrer sur les séismes et leur magnitude car chaque type de catastrophes a sa propre unité d'intensité et ce serait donc délicat de prendre plusieurs types en même temps."
   ]
  },
  {
   "cell_type": "code",
   "execution_count": 42,
   "metadata": {},
   "outputs": [
    {
     "data": {
      "text/plain": [
       "Dis Mag Value     86\n",
       "Total Damages    944\n",
       "dtype: int64"
      ]
     },
     "execution_count": 42,
     "metadata": {},
     "output_type": "execute_result"
    }
   ],
   "source": [
    "earthquake = data[data['Disaster Type']==\"Earthquake\"]\n",
    "magnitude = earthquake['Dis Mag Value']\n",
    "cout = earthquake['Total Damages']\n",
    "reg2 = pd.concat([magnitude,cout], axis=1)\n",
    "reg2.isnull().sum()"
   ]
  },
  {
   "cell_type": "code",
   "execution_count": 43,
   "metadata": {},
   "outputs": [],
   "source": [
    "#On enlève les lignes avec des NaN\n",
    "remove_nan(reg2,0);remove_nan(reg2,1)"
   ]
  },
  {
   "cell_type": "code",
   "execution_count": 44,
   "metadata": {},
   "outputs": [
    {
     "data": {
      "image/png": "[encoded data removed]",
      "text/plain": [
       "<Figure size 432x288 with 1 Axes>"
      ]
     },
     "metadata": {
      "needs_background": "light"
     },
     "output_type": "display_data"
    }
   ],
   "source": [
    "axes = plt.gca()\n",
    "axes.set_xlim([3,10])\n",
    "axes.set_ylim([0,2000000])\n",
    "plt.plot(reg2['Dis Mag Value'],reg2['Total Damages'],'.')\n",
    "axes.set(xlabel=\"Magnitude du séisme\",\n",
    "        ylabel = \"Coût total des dommages\")\n",
    "plt.show()"
   ]
  },
  {
   "cell_type": "markdown",
   "metadata": {},
   "source": [
    "D'après ce graphique, il semble que les 2 variables n'ait pas de relation linéaire."
   ]
  },
  {
   "cell_type": "code",
   "execution_count": 45,
   "metadata": {},
   "outputs": [
    {
     "name": "stdout",
     "output_type": "stream",
     "text": [
      "-7821850.957666347\n",
      "[1401220.81265005]\n",
      "R² = 0.018761824518818027\n"
     ]
    }
   ],
   "source": [
    "from sklearn.linear_model import LinearRegression\n",
    "\n",
    "#on crée un objet reg lin\n",
    "modeleReg=LinearRegression()\n",
    "\n",
    "#on crée y et x\n",
    "list_var=reg2.columns.drop('Total Damages')\n",
    "y=reg2['Total Damages']\n",
    "x=reg2[list_var]\n",
    "\n",
    "modeleReg.fit(x,y)\n",
    "\n",
    "print(modeleReg.intercept_)\n",
    "print(modeleReg.coef_)\n",
    "\n",
    "#calcul du R²\n",
    "\n",
    "print(\"R² =\", modeleReg.score(x,y))"
   ]
  },
  {
   "cell_type": "markdown",
   "metadata": {},
   "source": [
    "Le R2 reste encore faible puisqu'il vaut 1.8%, c'est-à-dire que la magnitude d'un séisme n'explique qu'environ 1,8% des variations du coût total des dommages qu'il cause. On ne va pas chercher à regresser 'Total Damages' sur la magnitude du séisme et sa durée puisqu'en général un séisme ne dure qu'une journée.\n",
    "\n",
    "\n",
    "\n",
    "# 4. Modèle de prédiction du coût total des dommages avec Random Forest"
   ]
  },
  {
   "cell_type": "code",
   "execution_count": 56,
   "metadata": {},
   "outputs": [
    {
     "data": {
      "text/plain": [
       "Index(['Year', 'Disaster Subgroup', 'Disaster Type', 'Disaster Subtype',\n",
       "       'Disaster Subsubtype', 'Entry Criteria', 'Region', 'Continent',\n",
       "       'Associated Dis', 'Associated Dis2', 'Total Deaths', 'Total Affected',\n",
       "       'Total Damages', 'duree'],\n",
       "      dtype='object')"
      ]
     },
     "execution_count": 56,
     "metadata": {},
     "output_type": "execute_result"
    }
   ],
   "source": [
    "#Création du dataframe contenant les features qu'on va utiliser pour le random forest\n",
    "\n",
    "features = data.drop(['Dis No','Seq','Disaster Group','Event Name', 'ISO', 'Location', 'Origin',\n",
    "                      'OFDA Response','Start Year','Start Month','Start Day', 'Country',\n",
    "                      'End Year','End Month', 'End Day','CPI','Latitude','Longitude', 'Declaration', 'Appeal',\n",
    "                      'River Basin','Local Time','Aid Contribution', 'Insured Damages', 'Reconstruction Costs', \n",
    "                      'Dis Mag Value','Dis Mag Scale','No Injured', 'No Homeless', 'No Affected'], axis=1)\n",
    "features.columns"
   ]
  },
  {
   "cell_type": "code",
   "execution_count": 47,
   "metadata": {},
   "outputs": [
    {
     "data": {
      "text/plain": [
       "Year                       0\n",
       "Disaster Subgroup          0\n",
       "Disaster Type              0\n",
       "Disaster Subtype        1989\n",
       "Disaster Subsubtype    11074\n",
       "Entry Criteria             2\n",
       "Region                     0\n",
       "Continent                  0\n",
       "Associated Dis          9258\n",
       "Associated Dis2        11408\n",
       "Total Deaths            2967\n",
       "Total Affected          2945\n",
       "Total Damages           7634\n",
       "duree                      0\n",
       "dtype: int64"
      ]
     },
     "execution_count": 47,
     "metadata": {},
     "output_type": "execute_result"
    }
   ],
   "source": [
    "features.isnull().sum()"
   ]
  },
  {
   "cell_type": "markdown",
   "metadata": {},
   "source": [
    "On doit supprimer les NaN pour le random forest quand cela représente un manque d'informations, c'est-à-dire pour 'Total Deaths', 'Total Affected' et 'Total Damages'. En effet, qu'une catatstrophe naturelle n'ait pas de catatstrophe qui en découle n'est pas un manque d'informations. De même pour les sous types."
   ]
  },
  {
   "cell_type": "code",
   "execution_count": 48,
   "metadata": {},
   "outputs": [],
   "source": [
    "nan=0\n",
    "for i in [5,10,11,12]:\n",
    "    remove_nan(features,i)"
   ]
  },
  {
   "cell_type": "code",
   "execution_count": 49,
   "metadata": {},
   "outputs": [],
   "source": [
    "#On transforme les chaînes de caractères en variable binaires\n",
    "features = pd.get_dummies(features)"
   ]
  },
  {
   "cell_type": "code",
   "execution_count": 50,
   "metadata": {},
   "outputs": [
    {
     "data": {
      "text/html": [
       "<div>\n",
       "<style scoped>\n",
       "    .dataframe tbody tr th:only-of-type {\n",
       "        vertical-align: middle;\n",
       "    }\n",
       "\n",
       "    .dataframe tbody tr th {\n",
       "        vertical-align: top;\n",
       "    }\n",
       "\n",
       "    .dataframe thead th {\n",
       "        text-align: right;\n",
       "    }\n",
       "</style>\n",
       "<table border=\"1\" class=\"dataframe\">\n",
       "  <thead>\n",
       "    <tr style=\"text-align: right;\">\n",
       "      <th></th>\n",
       "      <th>Year</th>\n",
       "      <th>Total Deaths</th>\n",
       "      <th>Total Affected</th>\n",
       "      <th>Total Damages</th>\n",
       "      <th>duree</th>\n",
       "      <th>Disaster Subgroup_Climatological</th>\n",
       "      <th>Disaster Subgroup_Geophysical</th>\n",
       "      <th>Disaster Subgroup_Hydrological</th>\n",
       "      <th>Disaster Subgroup_Meteorological</th>\n",
       "      <th>Disaster Type_Drought</th>\n",
       "      <th>...</th>\n",
       "      <th>Associated Dis2_Industrial accidents</th>\n",
       "      <th>Associated Dis2_Lightening</th>\n",
       "      <th>Associated Dis2_Liquefaction</th>\n",
       "      <th>Associated Dis2_Oil spill</th>\n",
       "      <th>Associated Dis2_Rain</th>\n",
       "      <th>Associated Dis2_Slide (land, mud, snow, rock)</th>\n",
       "      <th>Associated Dis2_Storm</th>\n",
       "      <th>Associated Dis2_Surge</th>\n",
       "      <th>Associated Dis2_Transport accident</th>\n",
       "      <th>Associated Dis2_Tsunami/Tidal wave</th>\n",
       "    </tr>\n",
       "  </thead>\n",
       "  <tbody>\n",
       "    <tr>\n",
       "      <th>count</th>\n",
       "      <td>3011.000000</td>\n",
       "      <td>3011.000000</td>\n",
       "      <td>3.011000e+03</td>\n",
       "      <td>3.011000e+03</td>\n",
       "      <td>3011.000000</td>\n",
       "      <td>3011.000000</td>\n",
       "      <td>3011.000000</td>\n",
       "      <td>3011.000000</td>\n",
       "      <td>3011.000000</td>\n",
       "      <td>3011.000000</td>\n",
       "      <td>...</td>\n",
       "      <td>3011.000000</td>\n",
       "      <td>3011.000000</td>\n",
       "      <td>3011.000000</td>\n",
       "      <td>3011.000000</td>\n",
       "      <td>3011.000000</td>\n",
       "      <td>3011.000000</td>\n",
       "      <td>3011.000000</td>\n",
       "      <td>3011.000000</td>\n",
       "      <td>3011.000000</td>\n",
       "      <td>3011.000000</td>\n",
       "    </tr>\n",
       "    <tr>\n",
       "      <th>mean</th>\n",
       "      <td>1999.877117</td>\n",
       "      <td>872.920624</td>\n",
       "      <td>1.302950e+06</td>\n",
       "      <td>9.244193e+05</td>\n",
       "      <td>7.316174</td>\n",
       "      <td>0.020923</td>\n",
       "      <td>0.150780</td>\n",
       "      <td>0.414148</td>\n",
       "      <td>0.414148</td>\n",
       "      <td>0.000332</td>\n",
       "      <td>...</td>\n",
       "      <td>0.000332</td>\n",
       "      <td>0.002657</td>\n",
       "      <td>0.000332</td>\n",
       "      <td>0.000332</td>\n",
       "      <td>0.007971</td>\n",
       "      <td>0.048821</td>\n",
       "      <td>0.002325</td>\n",
       "      <td>0.005646</td>\n",
       "      <td>0.001661</td>\n",
       "      <td>0.002989</td>\n",
       "    </tr>\n",
       "    <tr>\n",
       "      <th>std</th>\n",
       "      <td>15.190644</td>\n",
       "      <td>10289.901122</td>\n",
       "      <td>9.500483e+06</td>\n",
       "      <td>6.036884e+06</td>\n",
       "      <td>15.075105</td>\n",
       "      <td>0.143151</td>\n",
       "      <td>0.357894</td>\n",
       "      <td>0.492656</td>\n",
       "      <td>0.492656</td>\n",
       "      <td>0.018224</td>\n",
       "      <td>...</td>\n",
       "      <td>0.018224</td>\n",
       "      <td>0.051485</td>\n",
       "      <td>0.018224</td>\n",
       "      <td>0.018224</td>\n",
       "      <td>0.088937</td>\n",
       "      <td>0.215529</td>\n",
       "      <td>0.048168</td>\n",
       "      <td>0.074940</td>\n",
       "      <td>0.040723</td>\n",
       "      <td>0.054599</td>\n",
       "    </tr>\n",
       "    <tr>\n",
       "      <th>min</th>\n",
       "      <td>1906.000000</td>\n",
       "      <td>1.000000</td>\n",
       "      <td>1.000000e+00</td>\n",
       "      <td>2.000000e+00</td>\n",
       "      <td>1.000000</td>\n",
       "      <td>0.000000</td>\n",
       "      <td>0.000000</td>\n",
       "      <td>0.000000</td>\n",
       "      <td>0.000000</td>\n",
       "      <td>0.000000</td>\n",
       "      <td>...</td>\n",
       "      <td>0.000000</td>\n",
       "      <td>0.000000</td>\n",
       "      <td>0.000000</td>\n",
       "      <td>0.000000</td>\n",
       "      <td>0.000000</td>\n",
       "      <td>0.000000</td>\n",
       "      <td>0.000000</td>\n",
       "      <td>0.000000</td>\n",
       "      <td>0.000000</td>\n",
       "      <td>0.000000</td>\n",
       "    </tr>\n",
       "    <tr>\n",
       "      <th>25%</th>\n",
       "      <td>1993.000000</td>\n",
       "      <td>6.000000</td>\n",
       "      <td>3.000000e+03</td>\n",
       "      <td>1.000000e+04</td>\n",
       "      <td>1.000000</td>\n",
       "      <td>0.000000</td>\n",
       "      <td>0.000000</td>\n",
       "      <td>0.000000</td>\n",
       "      <td>0.000000</td>\n",
       "      <td>0.000000</td>\n",
       "      <td>...</td>\n",
       "      <td>0.000000</td>\n",
       "      <td>0.000000</td>\n",
       "      <td>0.000000</td>\n",
       "      <td>0.000000</td>\n",
       "      <td>0.000000</td>\n",
       "      <td>0.000000</td>\n",
       "      <td>0.000000</td>\n",
       "      <td>0.000000</td>\n",
       "      <td>0.000000</td>\n",
       "      <td>0.000000</td>\n",
       "    </tr>\n",
       "    <tr>\n",
       "      <th>50%</th>\n",
       "      <td>2003.000000</td>\n",
       "      <td>21.000000</td>\n",
       "      <td>2.700000e+04</td>\n",
       "      <td>6.870000e+04</td>\n",
       "      <td>2.000000</td>\n",
       "      <td>0.000000</td>\n",
       "      <td>0.000000</td>\n",
       "      <td>0.000000</td>\n",
       "      <td>0.000000</td>\n",
       "      <td>0.000000</td>\n",
       "      <td>...</td>\n",
       "      <td>0.000000</td>\n",
       "      <td>0.000000</td>\n",
       "      <td>0.000000</td>\n",
       "      <td>0.000000</td>\n",
       "      <td>0.000000</td>\n",
       "      <td>0.000000</td>\n",
       "      <td>0.000000</td>\n",
       "      <td>0.000000</td>\n",
       "      <td>0.000000</td>\n",
       "      <td>0.000000</td>\n",
       "    </tr>\n",
       "    <tr>\n",
       "      <th>75%</th>\n",
       "      <td>2012.000000</td>\n",
       "      <td>74.000000</td>\n",
       "      <td>2.310850e+05</td>\n",
       "      <td>3.610000e+05</td>\n",
       "      <td>7.000000</td>\n",
       "      <td>0.000000</td>\n",
       "      <td>0.000000</td>\n",
       "      <td>1.000000</td>\n",
       "      <td>1.000000</td>\n",
       "      <td>0.000000</td>\n",
       "      <td>...</td>\n",
       "      <td>0.000000</td>\n",
       "      <td>0.000000</td>\n",
       "      <td>0.000000</td>\n",
       "      <td>0.000000</td>\n",
       "      <td>0.000000</td>\n",
       "      <td>0.000000</td>\n",
       "      <td>0.000000</td>\n",
       "      <td>0.000000</td>\n",
       "      <td>0.000000</td>\n",
       "      <td>0.000000</td>\n",
       "    </tr>\n",
       "    <tr>\n",
       "      <th>max</th>\n",
       "      <td>2020.000000</td>\n",
       "      <td>300000.000000</td>\n",
       "      <td>2.389730e+08</td>\n",
       "      <td>2.100000e+08</td>\n",
       "      <td>336.000000</td>\n",
       "      <td>1.000000</td>\n",
       "      <td>1.000000</td>\n",
       "      <td>1.000000</td>\n",
       "      <td>1.000000</td>\n",
       "      <td>1.000000</td>\n",
       "      <td>...</td>\n",
       "      <td>1.000000</td>\n",
       "      <td>1.000000</td>\n",
       "      <td>1.000000</td>\n",
       "      <td>1.000000</td>\n",
       "      <td>1.000000</td>\n",
       "      <td>1.000000</td>\n",
       "      <td>1.000000</td>\n",
       "      <td>1.000000</td>\n",
       "      <td>1.000000</td>\n",
       "      <td>1.000000</td>\n",
       "    </tr>\n",
       "  </tbody>\n",
       "</table>\n",
       "<p>8 rows × 125 columns</p>\n",
       "</div>"
      ],
      "text/plain": [
       "              Year   Total Deaths  Total Affected  Total Damages        duree  \\\n",
       "count  3011.000000    3011.000000    3.011000e+03   3.011000e+03  3011.000000   \n",
       "mean   1999.877117     872.920624    1.302950e+06   9.244193e+05     7.316174   \n",
       "std      15.190644   10289.901122    9.500483e+06   6.036884e+06    15.075105   \n",
       "min    1906.000000       1.000000    1.000000e+00   2.000000e+00     1.000000   \n",
       "25%    1993.000000       6.000000    3.000000e+03   1.000000e+04     1.000000   \n",
       "50%    2003.000000      21.000000    2.700000e+04   6.870000e+04     2.000000   \n",
       "75%    2012.000000      74.000000    2.310850e+05   3.610000e+05     7.000000   \n",
       "max    2020.000000  300000.000000    2.389730e+08   2.100000e+08   336.000000   \n",
       "\n",
       "       Disaster Subgroup_Climatological  Disaster Subgroup_Geophysical  \\\n",
       "count                       3011.000000                    3011.000000   \n",
       "mean                           0.020923                       0.150780   \n",
       "std                            0.143151                       0.357894   \n",
       "min                            0.000000                       0.000000   \n",
       "25%                            0.000000                       0.000000   \n",
       "50%                            0.000000                       0.000000   \n",
       "75%                            0.000000                       0.000000   \n",
       "max                            1.000000                       1.000000   \n",
       "\n",
       "       Disaster Subgroup_Hydrological  Disaster Subgroup_Meteorological  \\\n",
       "count                     3011.000000                       3011.000000   \n",
       "mean                         0.414148                          0.414148   \n",
       "std                          0.492656                          0.492656   \n",
       "min                          0.000000                          0.000000   \n",
       "25%                          0.000000                          0.000000   \n",
       "50%                          0.000000                          0.000000   \n",
       "75%                          1.000000                          1.000000   \n",
       "max                          1.000000                          1.000000   \n",
       "\n",
       "       Disaster Type_Drought  ...  Associated Dis2_Industrial accidents  \\\n",
       "count            3011.000000  ...                           3011.000000   \n",
       "mean                0.000332  ...                              0.000332   \n",
       "std                 0.018224  ...                              0.018224   \n",
       "min                 0.000000  ...                              0.000000   \n",
       "25%                 0.000000  ...                              0.000000   \n",
       "50%                 0.000000  ...                              0.000000   \n",
       "75%                 0.000000  ...                              0.000000   \n",
       "max                 1.000000  ...                              1.000000   \n",
       "\n",
       "       Associated Dis2_Lightening  Associated Dis2_Liquefaction  \\\n",
       "count                 3011.000000                   3011.000000   \n",
       "mean                     0.002657                      0.000332   \n",
       "std                      0.051485                      0.018224   \n",
       "min                      0.000000                      0.000000   \n",
       "25%                      0.000000                      0.000000   \n",
       "50%                      0.000000                      0.000000   \n",
       "75%                      0.000000                      0.000000   \n",
       "max                      1.000000                      1.000000   \n",
       "\n",
       "       Associated Dis2_Oil spill  Associated Dis2_Rain  \\\n",
       "count                3011.000000           3011.000000   \n",
       "mean                    0.000332              0.007971   \n",
       "std                     0.018224              0.088937   \n",
       "min                     0.000000              0.000000   \n",
       "25%                     0.000000              0.000000   \n",
       "50%                     0.000000              0.000000   \n",
       "75%                     0.000000              0.000000   \n",
       "max                     1.000000              1.000000   \n",
       "\n",
       "       Associated Dis2_Slide (land, mud, snow, rock)  Associated Dis2_Storm  \\\n",
       "count                                    3011.000000            3011.000000   \n",
       "mean                                        0.048821               0.002325   \n",
       "std                                         0.215529               0.048168   \n",
       "min                                         0.000000               0.000000   \n",
       "25%                                         0.000000               0.000000   \n",
       "50%                                         0.000000               0.000000   \n",
       "75%                                         0.000000               0.000000   \n",
       "max                                         1.000000               1.000000   \n",
       "\n",
       "       Associated Dis2_Surge  Associated Dis2_Transport accident  \\\n",
       "count            3011.000000                         3011.000000   \n",
       "mean                0.005646                            0.001661   \n",
       "std                 0.074940                            0.040723   \n",
       "min                 0.000000                            0.000000   \n",
       "25%                 0.000000                            0.000000   \n",
       "50%                 0.000000                            0.000000   \n",
       "75%                 0.000000                            0.000000   \n",
       "max                 1.000000                            1.000000   \n",
       "\n",
       "       Associated Dis2_Tsunami/Tidal wave  \n",
       "count                         3011.000000  \n",
       "mean                             0.002989  \n",
       "std                              0.054599  \n",
       "min                              0.000000  \n",
       "25%                              0.000000  \n",
       "50%                              0.000000  \n",
       "75%                              0.000000  \n",
       "max                              1.000000  \n",
       "\n",
       "[8 rows x 125 columns]"
      ]
     },
     "execution_count": 50,
     "metadata": {},
     "output_type": "execute_result"
    }
   ],
   "source": [
    "features.describe()"
   ]
  },
  {
   "cell_type": "markdown",
   "metadata": {},
   "source": [
    "On obtient alors un dataframe avec 125 colonnes au lieu de 13 à l'origine, puisque les variables qui étaient des chaînes de caractères ont été décomposées."
   ]
  },
  {
   "cell_type": "code",
   "execution_count": 51,
   "metadata": {},
   "outputs": [],
   "source": [
    "#On sépare les labels des features, les labels sont les variables qu'on veut prédire, ici on a qu'un seul label\n",
    "label = np.array(features['Total Damages'])\n",
    "features= features.drop('Total Damages', axis = 1)\n",
    "\n",
    "#On garde la liste des features\n",
    "feature_list = list(features.columns)\n",
    "\n",
    "#On convertit en array\n",
    "features = np.array(features)"
   ]
  },
  {
   "cell_type": "code",
   "execution_count": 52,
   "metadata": {},
   "outputs": [],
   "source": [
    "#On utilise Scikit-learn pour séparer les données entre set d'entraînement et set de test\n",
    "from sklearn.model_selection import train_test_split\n",
    "\n",
    "#On sépare au hazard, en prenant 25% des données pour le set de test\n",
    "train_features, test_features, train_label, test_label = train_test_split(features, label, test_size = 0.25)"
   ]
  },
  {
   "cell_type": "code",
   "execution_count": 53,
   "metadata": {},
   "outputs": [
    {
     "name": "stdout",
     "output_type": "stream",
     "text": [
      "Training Features Shape: (2258, 124)\n",
      "Training Labels Shape: (2258,)\n",
      "Testing Features Shape: (753, 124)\n",
      "Testing Labels Shape: (753,)\n"
     ]
    }
   ],
   "source": [
    "#On vérifie que les sets d'entraînement et de test sont de la bonne dimension\n",
    "\n",
    "print('Training Features Shape:', train_features.shape)\n",
    "print('Training Labels Shape:', train_label.shape)\n",
    "print('Testing Features Shape:', test_features.shape)\n",
    "print('Testing Labels Shape:', test_label.shape)"
   ]
  },
  {
   "cell_type": "code",
   "execution_count": 54,
   "metadata": {},
   "outputs": [],
   "source": [
    "#Importation du modèle qu'on va utiliser\n",
    "from sklearn.ensemble import RandomForestRegressor\n",
    "\n",
    "# On initialise le modèle avec 100 arbres de décisions\n",
    "rf = RandomForestRegressor(n_estimators = 1000, random_state = 2020)\n",
    "\n",
    "#On entraîne le modèle sur le set d'entraînement\n",
    "rf.fit(train_features, train_label);"
   ]
  },
  {
   "cell_type": "code",
   "execution_count": 55,
   "metadata": {},
   "outputs": [
    {
     "name": "stdout",
     "output_type": "stream",
     "text": [
      "Erreur moyenne absolue: 1140940.44 $\n",
      "Exactitude du modèle: -11947.8 %.\n"
     ]
    }
   ],
   "source": [
    "# On utilise le modèle de prédiction sur le set de test\n",
    "predictions = rf.predict(test_features)\n",
    "# On calcule les erreurs de prédiction\n",
    "erreurs = abs(predictions - test_label)\n",
    "# On affiche l'erreur moyenne absolue\n",
    "print('Erreur moyenne absolue:', round(np.mean(erreurs), 2), '$')\n",
    "\n",
    "#On calcule l'erreur moyenne absolue en pourcentage\n",
    "emap = 100 * (erreurs / test_label)\n",
    "# Calculate and display accuracy\n",
    "exactitude = 100 - np.mean(emap)\n",
    "print('Exactitude du modèle:', round(exactitude, 2), '%.')"
   ]
  },
  {
   "cell_type": "markdown",
   "metadata": {},
   "source": [
    "La partie prédiction du coût total des dommages avec Random Forest a constitué notre principale difficulté rencontrée\n",
    "\n",
    "Nous avons bien :\n",
    "-nettoyé le dataset en supprimant les Nan restants -utilisé scikit learn pour séparer les données entre set d'entraînement et set de test\n",
    "-vérifié que les sets d'entraînement et de test sont de la bonne dimension\n",
    "Pourtant, les resultats obtenus ne sont pas satisfaisants\n",
    "\n",
    "\n",
    "Nous n'écartons pas la possibilité d'une erreur dans le code\n",
    "mais très probablement:\n",
    "- il est difficile d'expliquer le coût des dommages d'une catastrophe naturelle seulement à partir des features que nous avons dans notre base de données\n",
    "-nous aurions pu prendre en compte l'intensité de la catastrophe ('Dis Mag Value') mais il y a énormément de valeurs manquantes.\n",
    "-pourtant, cette base de données était l'une des plus complètes que nous sommes parvenus à trouver"
   ]
  }
 ],
 "metadata": {
  "kernelspec": {
   "display_name": "Python 3 (ipykernel)",
   "language": "python",
   "name": "python3"
  },
  "language_info": {
   "codemirror_mode": {
    "name": "ipython",
    "version": 3
   },
   "file_extension": ".py",
   "mimetype": "text/x-python",
   "name": "python",
   "nbconvert_exporter": "python",
   "pygments_lexer": "ipython3",
   "version": "3.11.0"
  }
 },
 "nbformat": 4,
 "nbformat_minor": 2
}
